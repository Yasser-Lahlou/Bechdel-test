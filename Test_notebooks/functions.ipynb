{
 "cells": [
  {
   "cell_type": "code",
   "execution_count": 39,
   "metadata": {},
   "outputs": [],
   "source": [
    "with open(\"../data/male_names.txt\") as f:\n",
    "    male_names = f.read().splitlines()[7:]"
   ]
  },
  {
   "cell_type": "code",
   "execution_count": 36,
   "metadata": {},
   "outputs": [],
   "source": [
    "with open(\"../data/female_names.txt\") as f:\n",
    "    female_names = f.read().splitlines()[7:]"
   ]
  },
  {
   "cell_type": "code",
   "execution_count": 283,
   "metadata": {
    "scrolled": true
   },
   "outputs": [
    {
     "data": {
      "text/plain": [
       "1089"
      ]
     },
     "execution_count": 283,
     "metadata": {},
     "output_type": "execute_result"
    }
   ],
   "source": [
    "import glob\n",
    "script_paths = glob.glob(\"../IMSDB_scripts/*.txt\")\n",
    "len(script_paths)"
   ]
  },
  {
   "cell_type": "code",
   "execution_count": 403,
   "metadata": {},
   "outputs": [
    {
     "data": {
      "text/plain": [
       "'../IMSDB_scripts/Midnight-Express.txt'"
      ]
     },
     "execution_count": 403,
     "metadata": {},
     "output_type": "execute_result"
    }
   ],
   "source": []
  },
  {
   "cell_type": "code",
   "execution_count": 407,
   "metadata": {},
   "outputs": [
    {
     "data": {
      "text/plain": [
       "'../IMSDB_scripts/127-Hours.txt'"
      ]
     },
     "execution_count": 407,
     "metadata": {},
     "output_type": "execute_result"
    }
   ],
   "source": [
    "from random import randint\n",
    "i = randint(0, len(script_paths))\n",
    "#filepath = script_paths[i]\n",
    "filepath = '../IMSDB_scripts/127-Hours.txt'\n",
    "filepath"
   ]
  },
  {
   "cell_type": "code",
   "execution_count": 408,
   "metadata": {},
   "outputs": [],
   "source": [
    "with open(filepath) as f:\n",
    "    data = f.read().splitlines()"
   ]
  },
  {
   "cell_type": "code",
   "execution_count": 409,
   "metadata": {},
   "outputs": [
    {
     "data": {
      "text/plain": [
       "5852"
      ]
     },
     "execution_count": 409,
     "metadata": {},
     "output_type": "execute_result"
    }
   ],
   "source": [
    "len(data)"
   ]
  },
  {
   "cell_type": "code",
   "execution_count": 410,
   "metadata": {},
   "outputs": [],
   "source": [
    "headings = sorted([i for i,line in enumerate(data) if ('INT.' in line or 'EXT.' in line)])\n",
    "headings.append(len(data))"
   ]
  },
  {
   "cell_type": "code",
   "execution_count": 411,
   "metadata": {},
   "outputs": [],
   "source": [
    "scenes = [data[headings[i]+1:headings[i+1]] for i in range(len(headings)-1)]"
   ]
  },
  {
   "cell_type": "code",
   "execution_count": 412,
   "metadata": {},
   "outputs": [],
   "source": [
    "from sklearn.feature_extraction.text import CountVectorizer\n",
    "\n",
    "def parse_script(filepath):\n",
    "    \"\"\"Takes a .txt filepath from the IMSDB scraped scripts folder\n",
    "        and creates a parsed script\n",
    "        Args:\n",
    "            filepath : *.txt\n",
    "        Returns:\n",
    "            a list of script lines\n",
    "    \"\"\"\n",
    "    with open(filepath) as f:\n",
    "        script = f.read().splitlines()\n",
    "    return script\n",
    "\n",
    "def break_scenes(script):\n",
    "    \"\"\"Breaks a script into scenes after identifying headings\n",
    "        Args:\n",
    "            script: list of str, a parsed script\n",
    "        Returns:\n",
    "            a list of scenes\n",
    "    \"\"\"\n",
    "    headings = sorted([i for i,line in enumerate(script) if ('INT.' in line or 'EXT.' in line)])\n",
    "    headings.append(len(script))\n",
    "    scenes = [data[headings[i]+1:headings[i+1]] for i in range(len(headings)-1)]\n",
    "    return scenes\n",
    "\n",
    "def extract_characters(script_slice, indent=15):\n",
    "    \"\"\"Extracts characters from a full script or a scene\n",
    "        Args:\n",
    "            script_slice: list of str, a parsed script (or scene)\n",
    "            indent : number of spaces before character name\n",
    "        Returns:\n",
    "            a list of unique characters\n",
    "    \"\"\"\n",
    "    characters = []\n",
    "    for line in script_slice:\n",
    "        if len(line.lstrip()) !=0:\n",
    "            if len(line)-len(line.lstrip()) > indent and line.lstrip()[0] != '(':\n",
    "                character = line.strip()\n",
    "                character = \"\".join(re.split(\"\\(|\\)|\\[|\\]\", character)[::2]).strip()\n",
    "                characters.append(character)\n",
    "    return list(set(characters))\n",
    "\n",
    "def female_count(script_slice, female_names):\n",
    "    \"\"\"Counts number of female names in a script\n",
    "        Args:\n",
    "            script_slice: list of str, a parsed script (or scene)\n",
    "            female_names : list of female names\n",
    "        Returns:\n",
    "            number of female names in the script slice\n",
    "    \"\"\"\n",
    "    characters = extract_characters(script_slice, indent=15)\n",
    "    female_count = 0\n",
    "    for character in characters:\n",
    "        if character.title() in female_names:\n",
    "            female_count += 1\n",
    "    return female_count\n",
    "\n",
    "def scene_tokenizer(script_slice):\n",
    "    \"\"\"Takes a scene and returns all the words present\n",
    "        Args:\n",
    "            script_slice: list of str\n",
    "        Returns:\n",
    "            a list of unique words\n",
    "    \"\"\"\n",
    "    vectorizer = CountVectorizer(stop_words='english', lowercase=False)\n",
    "    BOW = vectorizer.fit_transform(script_slice).toarray()\n",
    "    tokens = vectorizer.get_feature_names()\n",
    "    characters = extract_characters(script_slice, indent=15)\n",
    "    for character in characters:\n",
    "        if character in tokens:\n",
    "            tokens.remove(character)\n",
    "    return tokens"
   ]
  },
  {
   "cell_type": "code",
   "execution_count": 415,
   "metadata": {},
   "outputs": [],
   "source": [
    "def test_3(scenes):\n",
    "    for i, scene in enumerate(scenes):\n",
    "        test_passed = False\n",
    "        print(f\"scene {i}\")\n",
    "        if female_count(scene, female_names) > 1:\n",
    "            test_passed = True\n",
    "            tokens = scene_tokenizer(scene)\n",
    "            for token in tokens:\n",
    "                if token in male_names:\n",
    "                    # we found a male name we should explore another scene'\n",
    "                    test_passed = False\n",
    "                    break\n",
    "            if test_passed:\n",
    "                # we went through all the tokens without setting test_passed to false\n",
    "                return test_passed\n",
    "    # we went through all the scenes without returing True\n",
    "    return test_passed"
   ]
  },
  {
   "cell_type": "code",
   "execution_count": 420,
   "metadata": {},
   "outputs": [
    {
     "data": {
      "text/plain": [
       "['KRISTI / MEGAN', 'KRISTI', 'MEGAN', 'ARON', 'CUT TO:']"
      ]
     },
     "execution_count": 420,
     "metadata": {},
     "output_type": "execute_result"
    }
   ],
   "source": [
    "extract_characters(scenes[26], indent=15)"
   ]
  },
  {
   "cell_type": "code",
   "execution_count": 421,
   "metadata": {},
   "outputs": [
    {
     "data": {
      "text/plain": [
       "2"
      ]
     },
     "execution_count": 421,
     "metadata": {},
     "output_type": "execute_result"
    }
   ],
   "source": [
    "female_count(scenes[26], female_names)"
   ]
  },
  {
   "cell_type": "code",
   "execution_count": 416,
   "metadata": {},
   "outputs": [
    {
     "name": "stdout",
     "output_type": "stream",
     "text": [
      "scene 0\n",
      "scene 1\n",
      "scene 2\n",
      "scene 3\n",
      "scene 4\n",
      "scene 5\n",
      "scene 6\n",
      "scene 7\n",
      "scene 8\n",
      "scene 9\n",
      "scene 10\n",
      "scene 11\n",
      "scene 12\n",
      "scene 13\n",
      "scene 14\n",
      "scene 15\n",
      "scene 16\n",
      "scene 17\n",
      "scene 18\n",
      "scene 19\n",
      "scene 20\n",
      "scene 21\n",
      "scene 22\n",
      "scene 23\n",
      "scene 24\n",
      "scene 25\n",
      "scene 26\n"
     ]
    },
    {
     "data": {
      "text/plain": [
       "True"
      ]
     },
     "execution_count": 416,
     "metadata": {},
     "output_type": "execute_result"
    }
   ],
   "source": [
    "test_3(scenes)"
   ]
  },
  {
   "cell_type": "code",
   "execution_count": 417,
   "metadata": {},
   "outputs": [
    {
     "data": {
      "text/plain": [
       "['',\n",
       " \"          He slides/surfs down so he's on the same level as them,\",\n",
       " '          arriving in a haze of dust, holding out his hand for the',\n",
       " '          shake. Big smile.',\n",
       " '',\n",
       " '                          KRISTI',\n",
       " '           (looking at Megan)',\n",
       " \"           Sure, I'm Kristi.\",\n",
       " '',\n",
       " '                          MEGAN',\n",
       " '           Megan.',\n",
       " '',\n",
       " '                          ARON',\n",
       " '           Nice to meet you. What a day.',\n",
       " '',\n",
       " '                          KRISTI',\n",
       " \"           It's beautiful.\",\n",
       " '',\n",
       " '                          ARON',\n",
       " '           Did you bike or come straight from',\n",
       " '           the trail head?',\n",
       " '',\n",
       " '                          KRISTI',\n",
       " '           We left the car there. Pretty',\n",
       " '           quiet.',\n",
       " '',\n",
       " '                          ARON',\n",
       " '           I left mine at the Horseshoe Canyon',\n",
       " '           and biked here.',\n",
       " '',\n",
       " '           7.',\n",
       " '',\n",
       " '                         ',\n",
       " '',\n",
       " '                         ',\n",
       " '',\n",
       " '                          MEGAN',\n",
       " \"           You biked from Horseshoe? That's\",\n",
       " '           20 miles or more.',\n",
       " '',\n",
       " '                          ARON',\n",
       " '           17 and windy.',\n",
       " '',\n",
       " '                         ',\n",
       " '          The girls exchange glances.',\n",
       " '',\n",
       " \"                          ARON (CONT'D)\",\n",
       " '           I do this a lot.',\n",
       " \"          They laugh. He's crazy, but harmless.\",\n",
       " '',\n",
       " \"                          ARON (CONT'D)\",\n",
       " \"           Wasn't expecting to see anyone in\",\n",
       " '           the canyon today.',\n",
       " '',\n",
       " '                          MEGAN',\n",
       " '           Yeah, you surprised us, sneaking up',\n",
       " '           like that.',\n",
       " '',\n",
       " '                         ',\n",
       " '',\n",
       " '                          ARON',\n",
       " '           Sorry.',\n",
       " '',\n",
       " '                         ',\n",
       " '',\n",
       " '                          MEGAN',\n",
       " \"           It's kind of nervy seeing a lone\",\n",
       " '           guy walking up to you in the middle',\n",
       " '           of the desert.',\n",
       " '',\n",
       " '                         ',\n",
       " '',\n",
       " '                          ARON',\n",
       " \"           Yeah, I know, I mean there's no one\",\n",
       " '           around for 50 miles.',\n",
       " '',\n",
       " '                         ',\n",
       " '',\n",
       " '                          KRISTI',\n",
       " \"           ... and suddenly there's a guy\",\n",
       " '           right behind you and `wait a',\n",
       " '           minute, why is he wearing a HOCKEY',\n",
       " '',\n",
       " \"           MASK!'\",\n",
       " '          They all laugh.',\n",
       " '',\n",
       " '                          ARON',\n",
       " \"           Let me guess... You're here for\",\n",
       " '           the paintings or the Cathedral?',\n",
       " '',\n",
       " '                          KRISTI',\n",
       " \"           The Cathedral? We've got a bit\",\n",
       " \"           disorientated and the map isn't\",\n",
       " '           great. Where is it?',\n",
       " '',\n",
       " '                          ARON',\n",
       " \"           The climb's a little tricky but\",\n",
       " \"           it's worth it.\",\n",
       " '',\n",
       " '                          KRISTI / MEGAN',\n",
       " '           We climb.',\n",
       " '',\n",
       " '           8.',\n",
       " '',\n",
       " '                         ',\n",
       " '',\n",
       " '                         ',\n",
       " '          They all laugh.',\n",
       " '',\n",
       " '                          CUT TO:',\n",
       " '',\n",
       " '                         ',\n",
       " '']"
      ]
     },
     "execution_count": 417,
     "metadata": {},
     "output_type": "execute_result"
    }
   ],
   "source": [
    "scenes[26]"
   ]
  },
  {
   "cell_type": "code",
   "execution_count": 419,
   "metadata": {},
   "outputs": [
    {
     "data": {
      "text/plain": [
       "['17',\n",
       " '20',\n",
       " '50',\n",
       " 'Big',\n",
       " 'CONT',\n",
       " 'CUT',\n",
       " 'Canyon',\n",
       " 'Cathedral',\n",
       " 'Did',\n",
       " 'HOCKEY',\n",
       " 'He',\n",
       " 'Horseshoe',\n",
       " 'It',\n",
       " 'Kristi',\n",
       " 'Let',\n",
       " 'MASK',\n",
       " 'Megan',\n",
       " 'Nice',\n",
       " 'Pretty',\n",
       " 'Sorry',\n",
       " 'Sure',\n",
       " 'TO',\n",
       " 'That',\n",
       " 'The',\n",
       " 'They',\n",
       " 'Wasn',\n",
       " 'We',\n",
       " 'What',\n",
       " 'Where',\n",
       " 'Yeah',\n",
       " 'You',\n",
       " 'arriving',\n",
       " 'beautiful',\n",
       " 'bike',\n",
       " 'biked',\n",
       " 'bit',\n",
       " 'canyon',\n",
       " 'car',\n",
       " 'climb',\n",
       " 'come',\n",
       " 'crazy',\n",
       " 'day',\n",
       " 'desert',\n",
       " 'disorientated',\n",
       " 'dust',\n",
       " 'exchange',\n",
       " 'expecting',\n",
       " 'girls',\n",
       " 'glances',\n",
       " 'got',\n",
       " 'great',\n",
       " 'guess',\n",
       " 'guy',\n",
       " 'hand',\n",
       " 'harmless',\n",
       " 'haze',\n",
       " 'head',\n",
       " 'holding',\n",
       " 'isn',\n",
       " 'kind',\n",
       " 'know',\n",
       " 'laugh',\n",
       " 'left',\n",
       " 'level',\n",
       " 'like',\n",
       " 'little',\n",
       " 'lone',\n",
       " 'looking',\n",
       " 'lot',\n",
       " 'map',\n",
       " 'mean',\n",
       " 'meet',\n",
       " 'middle',\n",
       " 'miles',\n",
       " 'minute',\n",
       " 'nervy',\n",
       " 'paintings',\n",
       " 'quiet',\n",
       " 'right',\n",
       " 'seeing',\n",
       " 'shake',\n",
       " 'slides',\n",
       " 'smile',\n",
       " 'sneaking',\n",
       " 'straight',\n",
       " 'suddenly',\n",
       " 'surfs',\n",
       " 'surprised',\n",
       " 'today',\n",
       " 'trail',\n",
       " 'tricky',\n",
       " 've',\n",
       " 'wait',\n",
       " 'walking',\n",
       " 'wearing',\n",
       " 'windy',\n",
       " 'worth']"
      ]
     },
     "execution_count": 419,
     "metadata": {},
     "output_type": "execute_result"
    }
   ],
   "source": [
    "scene_tokenizer(scenes[26])"
   ]
  },
  {
   "cell_type": "code",
   "execution_count": 251,
   "metadata": {},
   "outputs": [
    {
     "data": {
      "text/plain": [
       "False"
      ]
     },
     "execution_count": 251,
     "metadata": {},
     "output_type": "execute_result"
    }
   ],
   "source": [
    "'Buzz' in male_names"
   ]
  },
  {
   "cell_type": "code",
   "execution_count": 400,
   "metadata": {},
   "outputs": [],
   "source": [
    "def female_names_generator(filepath):\n",
    "    with open(filepath) as f:\n",
    "        female_names = f.read().splitlines()[7:]\n",
    "    return female_names"
   ]
  },
  {
   "cell_type": "code",
   "execution_count": null,
   "metadata": {},
   "outputs": [],
   "source": []
  }
 ],
 "metadata": {
  "kernelspec": {
   "display_name": "Python 3",
   "language": "python",
   "name": "python3"
  },
  "language_info": {
   "codemirror_mode": {
    "name": "ipython",
    "version": 3
   },
   "file_extension": ".py",
   "mimetype": "text/x-python",
   "name": "python",
   "nbconvert_exporter": "python",
   "pygments_lexer": "ipython3",
   "version": "3.7.4"
  }
 },
 "nbformat": 4,
 "nbformat_minor": 2
}
