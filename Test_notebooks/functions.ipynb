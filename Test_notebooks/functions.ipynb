{
 "cells": [
  {
   "cell_type": "code",
   "execution_count": 39,
   "metadata": {},
   "outputs": [],
   "source": [
    "with open(\"../data/male_names.txt\") as f:\n",
    "    male_names = f.read().splitlines()[7:]"
   ]
  },
  {
   "cell_type": "code",
   "execution_count": 36,
   "metadata": {},
   "outputs": [],
   "source": [
    "with open(\"../data/female_names.txt\") as f:\n",
    "    female_names = f.read().splitlines()[7:]"
   ]
  },
  {
   "cell_type": "code",
   "execution_count": 283,
   "metadata": {
    "scrolled": false
   },
   "outputs": [
    {
     "data": {
      "text/plain": [
       "1089"
      ]
     },
     "execution_count": 283,
     "metadata": {},
     "output_type": "execute_result"
    }
   ],
   "source": [
    "import glob\n",
    "script_paths = glob.glob(\"../IMSDB_scripts/*.txt\")\n",
    "len(script_paths)"
   ]
  },
  {
   "cell_type": "code",
   "execution_count": 392,
   "metadata": {},
   "outputs": [
    {
     "data": {
      "text/plain": [
       "'../IMSDB_scripts/Dallas-Buyers-Club.txt'"
      ]
     },
     "execution_count": 392,
     "metadata": {},
     "output_type": "execute_result"
    }
   ],
   "source": [
    "from random import randint\n",
    "i = randint(0, len(script_paths))\n",
    "filepath = script_paths[i]\n",
    "filepath"
   ]
  },
  {
   "cell_type": "code",
   "execution_count": 393,
   "metadata": {},
   "outputs": [],
   "source": [
    "with open(filepath) as f:\n",
    "    data = f.read().splitlines()"
   ]
  },
  {
   "cell_type": "code",
   "execution_count": 394,
   "metadata": {},
   "outputs": [
    {
     "data": {
      "text/plain": [
       "5356"
      ]
     },
     "execution_count": 394,
     "metadata": {},
     "output_type": "execute_result"
    }
   ],
   "source": [
    "len(data)"
   ]
  },
  {
   "cell_type": "code",
   "execution_count": 395,
   "metadata": {},
   "outputs": [],
   "source": [
    "headings = sorted([i for i,line in enumerate(data) if ('INT.' in line or 'EXT.' in line)])\n",
    "headings.append(len(data))"
   ]
  },
  {
   "cell_type": "code",
   "execution_count": 396,
   "metadata": {},
   "outputs": [],
   "source": [
    "scenes = [data[headings[i]+1:headings[i+1]] for i in range(len(headings)-1)]"
   ]
  },
  {
   "cell_type": "code",
   "execution_count": 397,
   "metadata": {},
   "outputs": [],
   "source": [
    "from sklearn.feature_extraction.text import CountVectorizer\n",
    "\n",
    "def parse_script(filepath):\n",
    "    \"\"\"Takes a .txt filepath from the IMSDB scraped scripts folder\n",
    "        and creates a parsed script\n",
    "        Args:\n",
    "            filepath : *.txt\n",
    "        Returns:\n",
    "            a list of script lines\n",
    "    \"\"\"\n",
    "    with open(filepath) as f:\n",
    "        script = f.read().splitlines()\n",
    "    return script\n",
    "\n",
    "def break_scenes(script):\n",
    "    \"\"\"Breaks a script into scenes after identifying headings\n",
    "        Args:\n",
    "            script: list of str, a parsed script\n",
    "        Returns:\n",
    "            a list of scenes\n",
    "    \"\"\"\n",
    "    headings = sorted([i for i,line in enumerate(script) if ('INT.' in line or 'EXT.' in line)])\n",
    "    headings.append(len(script))\n",
    "    scenes = [data[headings[i]+1:headings[i+1]] for i in range(len(headings)-1)]\n",
    "    return scenes\n",
    "\n",
    "def extract_characters(script_slice, indent=15):\n",
    "    \"\"\"Extracts characters from a full script or a scene\n",
    "        Args:\n",
    "            script_slice: list of str, a parsed script (or scene)\n",
    "            indent : number of spaces before character name\n",
    "        Returns:\n",
    "            a list of unique characters\n",
    "    \"\"\"\n",
    "    characters = []\n",
    "    for line in script_slice:\n",
    "        if len(line.lstrip()) !=0:\n",
    "            if len(line)-len(line.lstrip()) > indent and line.lstrip()[0] != '(':\n",
    "                character = line.strip()\n",
    "                character = \"\".join(re.split(\"\\(|\\)|\\[|\\]\", character)[::2]).strip()\n",
    "                characters.append(character)\n",
    "    return list(set(characters))\n",
    "\n",
    "def female_count(script_slice, female_names):\n",
    "    \"\"\"Counts number of female names in a script\n",
    "        Args:\n",
    "            script_slice: list of str, a parsed script (or scene)\n",
    "            female_names : list of female names\n",
    "        Returns:\n",
    "            number of female names in the script slice\n",
    "    \"\"\"\n",
    "    characters = extract_characters(script_slice, indent=15)\n",
    "    female_count = 0\n",
    "    for character in characters:\n",
    "        if character.title() in female_names:\n",
    "            female_count += 1\n",
    "    return female_count\n",
    "\n",
    "def scene_tokenizer(script_slice):\n",
    "    \"\"\"Takes a scene and returns all the words present\n",
    "        Args:\n",
    "            script_slice: list of str\n",
    "        Returns:\n",
    "            a list of unique words\n",
    "    \"\"\"\n",
    "    vectorizer = CountVectorizer(stop_words='english', lowercase=False)\n",
    "    BOW = vectorizer.fit_transform(script_slice).toarray()\n",
    "    tokens = vectorizer.get_feature_names()\n",
    "    characters = extract_characters(script_slice, indent=15)\n",
    "    for character in characters:\n",
    "        if character in tokens:\n",
    "            tokens.remove(character)\n",
    "    return tokens"
   ]
  },
  {
   "cell_type": "code",
   "execution_count": 398,
   "metadata": {},
   "outputs": [],
   "source": [
    "def test_3(scenes):\n",
    "    for i, scene in enumerate(scenes):\n",
    "        test_passed = False\n",
    "        if female_count(scene, female_names) > 1:\n",
    "            test_passed = True\n",
    "            tokens = scene_tokenizer(scene)\n",
    "            for token in tokens:\n",
    "                if token in male_names:\n",
    "                    # we found a male name we should explore another scene'\n",
    "                    test_passed = False\n",
    "                    break\n",
    "            if test_passed:\n",
    "                # we went through all the tokens without setting test_passed to false\n",
    "                return test_passed\n",
    "    # we went through all the scenes without returing True\n",
    "    return test_passed"
   ]
  },
  {
   "cell_type": "code",
   "execution_count": 399,
   "metadata": {},
   "outputs": [
    {
     "data": {
      "text/plain": [
       "False"
      ]
     },
     "execution_count": 399,
     "metadata": {},
     "output_type": "execute_result"
    }
   ],
   "source": [
    "test_3(scenes)"
   ]
  },
  {
   "cell_type": "code",
   "execution_count": 370,
   "metadata": {},
   "outputs": [
    {
     "data": {
      "text/plain": [
       "['',\n",
       " 'Rose is dressed for the day, and is in the middle of helping Ruth with her',\n",
       " \"corset. The tight bindings do not inhibit Ruth's fury at all.\",\n",
       " '',\n",
       " '                                   RUTH',\n",
       " '',\n",
       " 'You are not to see that boy again, do you understand me Rose? I forbid it!',\n",
       " '',\n",
       " \"Rose has her knee at the base of her mother's back and is pulling the\",\n",
       " 'corset strings with both hands.',\n",
       " '',\n",
       " '                                   ROSE',\n",
       " '',\n",
       " \"Oh, stop it, Mother. You'll give yourself a nosebleed.\",\n",
       " '',\n",
       " 'Ruth pulls away from her, and crosses to the door, locking it. CLACK!',\n",
       " '',\n",
       " '                                   RUTH',\n",
       " '',\n",
       " '                             (wheeling on her)',\n",
       " '',\n",
       " \"Rose, this is not a game! Our situation is precarious. You know the money's\",\n",
       " 'gone!',\n",
       " '',\n",
       " '                                   ROSE',\n",
       " '',\n",
       " \"Of course I know it's gone. You remind me every day!\",\n",
       " '',\n",
       " '                                   RUTH',\n",
       " '',\n",
       " 'Your father left us nothing but a legacy of bad debts hidden by a good',\n",
       " 'name. And that name is the only card we have to play.',\n",
       " '',\n",
       " 'Rose turns her around and grabs the corset strings again. Ruth sucks in her',\n",
       " 'waist and Rose pulls.',\n",
       " '',\n",
       " '                                   RUTH',\n",
       " '',\n",
       " \"I don't understand you. It is a fine match with Hockley, and it will insure\",\n",
       " 'our survival.',\n",
       " '',\n",
       " '                                   ROSE',\n",
       " '',\n",
       " '                              (hurt and lost)',\n",
       " '',\n",
       " 'How can you put this on my shoulders?',\n",
       " '',\n",
       " 'Rose turns to her, and we see what Rose sees-- the naked fear in her',\n",
       " \"mother's eyes.\",\n",
       " '',\n",
       " '                                   RUTH',\n",
       " '',\n",
       " 'Do you want to se me working as a seamstress? Is that what you want? Do you',\n",
       " 'want to see our fine things sold at an auction, our memories scattered to',\n",
       " 'the winds? My God, Rose, how can you be so selfish?',\n",
       " '',\n",
       " '                                   ROSE',\n",
       " '',\n",
       " \"It's so unfair.\",\n",
       " '',\n",
       " '                                   RUTH',\n",
       " '',\n",
       " \"Of course it's unfair! We're women. Our choices are never easy.\",\n",
       " '',\n",
       " 'Rose pulls the corset tighter.',\n",
       " '',\n",
       " '                                                                   CUT TO:',\n",
       " '']"
      ]
     },
     "execution_count": 370,
     "metadata": {},
     "output_type": "execute_result"
    }
   ],
   "source": [
    "scenes[57]"
   ]
  },
  {
   "cell_type": "code",
   "execution_count": 250,
   "metadata": {},
   "outputs": [
    {
     "data": {
      "text/plain": [
       "['Buzz',\n",
       " 'Eve',\n",
       " 'Something',\n",
       " 'Wanda',\n",
       " 'We',\n",
       " 'crazy',\n",
       " 'got',\n",
       " 'gunshots',\n",
       " 'heard',\n",
       " 'run',\n",
       " 'runs',\n",
       " 'smack',\n",
       " 'tell',\n",
       " 've']"
      ]
     },
     "execution_count": 250,
     "metadata": {},
     "output_type": "execute_result"
    }
   ],
   "source": [
    "scene_tokenizer(scenes[144])"
   ]
  },
  {
   "cell_type": "code",
   "execution_count": 251,
   "metadata": {},
   "outputs": [
    {
     "data": {
      "text/plain": [
       "False"
      ]
     },
     "execution_count": 251,
     "metadata": {},
     "output_type": "execute_result"
    }
   ],
   "source": [
    "'Buzz' in male_names"
   ]
  },
  {
   "cell_type": "code",
   "execution_count": 400,
   "metadata": {},
   "outputs": [],
   "source": [
    "def female_names_generator(filepath):\n",
    "    with open(filepath) as f:\n",
    "        female_names = f.read().splitlines()[7:]\n",
    "    return female_names"
   ]
  },
  {
   "cell_type": "code",
   "execution_count": null,
   "metadata": {},
   "outputs": [],
   "source": []
  }
 ],
 "metadata": {
  "kernelspec": {
   "display_name": "Python 3",
   "language": "python",
   "name": "python3"
  },
  "language_info": {
   "codemirror_mode": {
    "name": "ipython",
    "version": 3
   },
   "file_extension": ".py",
   "mimetype": "text/x-python",
   "name": "python",
   "nbconvert_exporter": "python",
   "pygments_lexer": "ipython3",
   "version": "3.7.4"
  }
 },
 "nbformat": 4,
 "nbformat_minor": 2
}
